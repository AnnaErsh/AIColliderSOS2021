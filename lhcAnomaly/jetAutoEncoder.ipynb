{
 "cells": [
  {
   "cell_type": "markdown",
   "metadata": {},
   "source": [
    "# Training an Anomalous Jet Detector with **AE** \n",
    "\n",
    "---\n",
    "In this notebook, we train an unsupervised algorithm capable of compressing a jet features into a low-dimension laten space and, from there, reconstruct the input data. The distance between the input and the output is used to identify rare jets. Applying a lower treshold on the loss, one can veto standard QCD jets (quarks and gluons) and select a sample enriched in anomalous jets (W, Z, top, etc). \n",
    "\n",
    "---"
   ]
  },
  {
   "cell_type": "code",
   "execution_count": 1,
   "metadata": {},
   "outputs": [],
   "source": [
    "import os\n",
    "import h5py\n",
    "import glob\n",
    "import numpy as np\n",
    "import matplotlib.pyplot as plt"
   ]
  },
  {
   "cell_type": "code",
   "execution_count": 2,
   "metadata": {},
   "outputs": [],
   "source": [
    "%matplotlib inline"
   ]
  },
  {
   "cell_type": "markdown",
   "metadata": {},
   "source": [
    "# Preparation of the training and validation samples\n",
    "\n",
    "---\n",
    "In order to import the dataset, we now\n",
    "- clone the dataset repository (to import the data in Colab)\n",
    "- load the h5 files in the data/ repository\n",
    "- extract the data we need: a target and jetImage \n",
    "\n",
    "To type shell commands, we start the command line with !"
   ]
  },
  {
   "cell_type": "code",
   "execution_count": 3,
   "metadata": {},
   "outputs": [
    {
     "name": "stdout",
     "output_type": "stream",
     "text": [
      "Cloning into 'tutorials'...\n",
      "remote: Enumerating objects: 30, done.\u001b[K\n",
      "remote: Counting objects: 100% (30/30), done.\u001b[K\n",
      "remote: Compressing objects: 100% (20/20), done.\u001b[K\n",
      "remote: Total 609 (delta 15), reused 25 (delta 10), pack-reused 579\u001b[K\n",
      "Receiving objects: 100% (609/609), 546.80 MiB | 13.49 MiB/s, done.\n",
      "Resolving deltas: 100% (217/217), done.\n",
      "Checking out files: 100% (54/54), done.\n"
     ]
    }
   ],
   "source": [
    "! git clone https://github.com/pierinim/tutorials.git"
   ]
  },
  {
   "cell_type": "code",
   "execution_count": 4,
   "metadata": {},
   "outputs": [
    {
     "name": "stdout",
     "output_type": "stream",
     "text": [
      "jetImage_7_100p_0_10000.h5\tjetImage_7_100p_50000_60000.h5\n",
      "jetImage_7_100p_10000_20000.h5\tjetImage_7_100p_60000_70000.h5\n",
      "jetImage_7_100p_30000_40000.h5\tjetImage_7_100p_70000_80000.h5\n",
      "jetImage_7_100p_40000_50000.h5\tjetImage_7_100p_80000_90000.h5\n"
     ]
    }
   ],
   "source": [
    "! ls tutorials/Data/JetDataset/"
   ]
  },
  {
   "cell_type": "code",
   "execution_count": 5,
   "metadata": {},
   "outputs": [
    {
     "name": "stdout",
     "output_type": "stream",
     "text": [
      "Appending tutorials/Data/JetDataset/jetImage_7_100p_30000_40000.h5\n",
      "Appending tutorials/Data/JetDataset/jetImage_7_100p_60000_70000.h5\n",
      "Appending tutorials/Data/JetDataset/jetImage_7_100p_50000_60000.h5\n",
      "Appending tutorials/Data/JetDataset/jetImage_7_100p_10000_20000.h5\n"
     ]
    },
    {
     "name": "stderr",
     "output_type": "stream",
     "text": [
      "/usr/local/lib/python3.6/site-packages/ipykernel_launcher.py:13: H5pyDeprecationWarning: The default file mode will change to 'r' (read-only) in h5py 3.0. To suppress this warning, pass the mode you need to h5py.File(), or set the global default h5.get_config().default_file_mode, or set the environment variable H5PY_DEFAULT_READONLY=1. Available modes are: 'r', 'r+', 'w', 'w-'/'x', 'a'. See the docs for details.\n",
      "  del sys.path[0]\n"
     ]
    },
    {
     "name": "stdout",
     "output_type": "stream",
     "text": [
      "Appending tutorials/Data/JetDataset/jetImage_7_100p_0_10000.h5\n",
      "(50000, 5) (50000, 16)\n"
     ]
    }
   ],
   "source": [
    "target = np.array([])\n",
    "features = np.array([])\n",
    "# we cannot load all data on Colab. So we just take a few files\n",
    "datafiles = ['tutorials/Data/JetDataset/jetImage_7_100p_30000_40000.h5',\n",
    "           'tutorials/Data/JetDataset/jetImage_7_100p_60000_70000.h5',\n",
    "            'tutorials/Data/JetDataset/jetImage_7_100p_50000_60000.h5',\n",
    "            'tutorials/Data/JetDataset/jetImage_7_100p_10000_20000.h5',\n",
    "            'tutorials/Data/JetDataset/jetImage_7_100p_0_10000.h5']\n",
    "# if you are running locallt, you can use the full dataset doing\n",
    "# for fileIN in glob.glob(\"tutorials/HiggsSchool/data/*h5\"):\n",
    "for fileIN in datafiles:\n",
    "    print(\"Appending %s\" %fileIN)\n",
    "    f = h5py.File(fileIN)\n",
    "    myFeatures = np.array(f.get(\"jets\")[:,[12, 34, 35, 36, 37, 38, 39, 40, 41, 42, 43, 44, 45, 46, 48, 52]])\n",
    "    mytarget = np.array(f.get('jets')[0:,-6:-1])\n",
    "    features = np.concatenate([features, myFeatures], axis=0) if features.size else myFeatures\n",
    "    target = np.concatenate([target, mytarget], axis=0) if target.size else mytarget\n",
    "    f.close()\n",
    "print(target.shape, features.shape)"
   ]
  },
  {
   "cell_type": "code",
   "execution_count": 6,
   "metadata": {},
   "outputs": [
    {
     "name": "stdout",
     "output_type": "stream",
     "text": [
      "0.08990890900131082 0.0013334328255667934\n",
      "6.394884621840902e-19 1.0000000000000036\n"
     ]
    }
   ],
   "source": [
    "# we standardize the data, so that the mean is = 0 and rms = 1 \n",
    "from sklearn.preprocessing import StandardScaler\n",
    "print(np.mean(features[:,10]), np.var(features[:,10]))\n",
    "scaler = StandardScaler()\n",
    "scaler.fit(features)\n",
    "features = scaler.transform(features)\n",
    "print(np.mean(features[:,10]), np.var(features[:,10]))"
   ]
  },
  {
   "cell_type": "markdown",
   "metadata": {},
   "source": [
    "We now separate the dataset in 4:\n",
    "- a training dataset, consisting of quarks and gluons\n",
    "- three 'anomalous jets' samples: W, Z, and top"
   ]
  },
  {
   "cell_type": "code",
   "execution_count": 7,
   "metadata": {},
   "outputs": [
    {
     "name": "stdout",
     "output_type": "stream",
     "text": [
      "(19908, 16) (10015, 16) (10037, 16) (10040, 16)\n"
     ]
    }
   ],
   "source": [
    "features_standard = features[np.argmax(target,axis=1)<2]\n",
    "features_W = features[np.argmax(target,axis=1)==2]\n",
    "features_Z = features[np.argmax(target,axis=1)==3]\n",
    "features_t = features[np.argmax(target,axis=1)==4]\n",
    "print(features_standard.shape, features_W.shape, features_Z.shape, features_t.shape)"
   ]
  },
  {
   "cell_type": "markdown",
   "metadata": {},
   "source": [
    "Notice that this is an unsupervised algorithm, so we don't need the target array anymore.\n",
    "Nevertheless, we keep a part of it around, since it might be useful to test the response \n",
    "of the algorithm to quarks and gluons separetly"
   ]
  },
  {
   "cell_type": "code",
   "execution_count": 8,
   "metadata": {},
   "outputs": [],
   "source": [
    "label_standard = target[np.argmax(target,axis=1)<2]"
   ]
  },
  {
   "cell_type": "markdown",
   "metadata": {},
   "source": [
    "We now shuffle the standard-jet data and its labels, splitting them into a training, a validation+test dataset with 2:1:1 ratio. \n",
    "\n",
    "Then we separate the validation+test in two halves (training and validation)"
   ]
  },
  {
   "cell_type": "code",
   "execution_count": 9,
   "metadata": {},
   "outputs": [
    {
     "name": "stdout",
     "output_type": "stream",
     "text": [
      "(15926, 16) (3982, 16) (15926, 5) (3982, 5)\n",
      "(12740, 16) (3186, 16) (12740, 5) (3186, 5) (3982, 5)\n"
     ]
    }
   ],
   "source": [
    "from sklearn.model_selection import train_test_split\n",
    "X_learn, X_test, label_learn, label_test = train_test_split(features_standard, label_standard, test_size=0.2)\n",
    "print(X_learn.shape, X_test.shape, label_learn.shape, label_test.shape)\n",
    "X_train, X_val, label_train, label_val = train_test_split(X_learn, label_learn, test_size=0.2)\n",
    "print(X_train.shape, X_val.shape, label_train.shape, label_val.shape, label_test.shape)\n",
    "del features_standard, label_standard, features, target, X_learn, label_learn"
   ]
  },
  {
   "cell_type": "markdown",
   "metadata": {},
   "source": [
    "# Building the AE model"
   ]
  },
  {
   "cell_type": "code",
   "execution_count": 11,
   "metadata": {},
   "outputs": [
    {
     "name": "stdout",
     "output_type": "stream",
     "text": [
      "setGPU: Setting GPU to: 1\n"
     ]
    }
   ],
   "source": [
    "# keras imports\n",
    "from tensorflow.keras.models import Model\n",
    "from tensorflow.keras.layers import Dense, Input, Flatten\n",
    "from tensorflow.keras.layers import BatchNormalization, Activation\n",
    "from tensorflow.keras.utils import plot_model\n",
    "from tensorflow.keras import backend as K\n",
    "from tensorflow.keras import metrics\n",
    "from tensorflow.keras.callbacks import EarlyStopping, ReduceLROnPlateau, TerminateOnNaN\n",
    "import setGPU"
   ]
  },
  {
   "cell_type": "code",
   "execution_count": 12,
   "metadata": {},
   "outputs": [],
   "source": [
    "#---------\n",
    "# Enncoder\n",
    "#---------\n",
    "inputLayer = Input(shape=(16))\n",
    "#\n",
    "enc = Dense(10)(inputLayer)\n",
    "enc = Activation('elu')(enc)\n",
    "#\n",
    "enc = Dense(5)(enc)\n",
    "enc = Activation('elu')(enc)\n",
    "\n",
    "#---------\n",
    "# Decoder\n",
    "#---------\n",
    "dec = Dense(10)(enc)\n",
    "dec = Activation('elu')(dec)\n",
    "#\n",
    "dec = Dense(16)(dec)\n",
    "autoencoder = Model(inputs=inputLayer, outputs=dec)"
   ]
  },
  {
   "cell_type": "code",
   "execution_count": 13,
   "metadata": {},
   "outputs": [
    {
     "name": "stdout",
     "output_type": "stream",
     "text": [
      "Model: \"functional_1\"\n",
      "_________________________________________________________________\n",
      "Layer (type)                 Output Shape              Param #   \n",
      "=================================================================\n",
      "input_1 (InputLayer)         [(None, 16)]              0         \n",
      "_________________________________________________________________\n",
      "dense (Dense)                (None, 10)                170       \n",
      "_________________________________________________________________\n",
      "activation (Activation)      (None, 10)                0         \n",
      "_________________________________________________________________\n",
      "dense_1 (Dense)              (None, 5)                 55        \n",
      "_________________________________________________________________\n",
      "activation_1 (Activation)    (None, 5)                 0         \n",
      "_________________________________________________________________\n",
      "dense_2 (Dense)              (None, 10)                60        \n",
      "_________________________________________________________________\n",
      "activation_2 (Activation)    (None, 10)                0         \n",
      "_________________________________________________________________\n",
      "dense_3 (Dense)              (None, 16)                176       \n",
      "=================================================================\n",
      "Total params: 461\n",
      "Trainable params: 461\n",
      "Non-trainable params: 0\n",
      "_________________________________________________________________\n"
     ]
    }
   ],
   "source": [
    "autoencoder.compile(loss='mse', optimizer='adam')\n",
    "autoencoder.summary()"
   ]
  },
  {
   "cell_type": "markdown",
   "metadata": {},
   "source": [
    "We now train the model. Notice the difference with respect to the supervised case\n",
    "- the input to the training is (X,X) and nor (X, y). Similarly for the validation dataset\n",
    "- the model has no dropout. It is difficult for an unsupervised model to overtran, so there is not really a need"
   ]
  },
  {
   "cell_type": "code",
   "execution_count": 14,
   "metadata": {},
   "outputs": [],
   "source": [
    "batch_size = 128\n",
    "n_epochs = 100"
   ]
  },
  {
   "cell_type": "code",
   "execution_count": 15,
   "metadata": {},
   "outputs": [
    {
     "name": "stdout",
     "output_type": "stream",
     "text": [
      "Epoch 1/100\n",
      "100/100 - 0s - loss: 1.0113 - val_loss: 0.7173\n",
      "Epoch 2/100\n",
      "100/100 - 0s - loss: 0.5623 - val_loss: 0.4261\n",
      "Epoch 3/100\n",
      "100/100 - 0s - loss: 0.3328 - val_loss: 0.2595\n",
      "Epoch 4/100\n",
      "100/100 - 0s - loss: 0.2072 - val_loss: 0.1674\n",
      "Epoch 5/100\n",
      "100/100 - 0s - loss: 0.1427 - val_loss: 0.1245\n",
      "Epoch 6/100\n",
      "100/100 - 0s - loss: 0.1116 - val_loss: 0.1021\n",
      "Epoch 7/100\n",
      "100/100 - 0s - loss: 0.0946 - val_loss: 0.0892\n",
      "Epoch 8/100\n",
      "100/100 - 0s - loss: 0.0842 - val_loss: 0.0809\n",
      "Epoch 9/100\n",
      "100/100 - 0s - loss: 0.0771 - val_loss: 0.0749\n",
      "Epoch 10/100\n",
      "100/100 - 0s - loss: 0.0717 - val_loss: 0.0700\n",
      "Epoch 11/100\n",
      "100/100 - 0s - loss: 0.0671 - val_loss: 0.0656\n",
      "Epoch 12/100\n",
      "100/100 - 0s - loss: 0.0628 - val_loss: 0.0614\n",
      "Epoch 13/100\n",
      "100/100 - 0s - loss: 0.0587 - val_loss: 0.0570\n",
      "Epoch 14/100\n",
      "100/100 - 0s - loss: 0.0543 - val_loss: 0.0524\n",
      "Epoch 15/100\n",
      "100/100 - 0s - loss: 0.0500 - val_loss: 0.0480\n",
      "Epoch 16/100\n",
      "100/100 - 0s - loss: 0.0460 - val_loss: 0.0441\n",
      "Epoch 17/100\n",
      "100/100 - 0s - loss: 0.0428 - val_loss: 0.0412\n",
      "Epoch 18/100\n",
      "100/100 - 0s - loss: 0.0403 - val_loss: 0.0388\n",
      "Epoch 19/100\n",
      "100/100 - 0s - loss: 0.0383 - val_loss: 0.0370\n",
      "Epoch 20/100\n",
      "100/100 - 0s - loss: 0.0366 - val_loss: 0.0355\n",
      "Epoch 21/100\n",
      "100/100 - 0s - loss: 0.0353 - val_loss: 0.0343\n",
      "Epoch 22/100\n",
      "100/100 - 0s - loss: 0.0341 - val_loss: 0.0332\n",
      "Epoch 23/100\n",
      "100/100 - 0s - loss: 0.0331 - val_loss: 0.0323\n",
      "Epoch 24/100\n",
      "100/100 - 0s - loss: 0.0321 - val_loss: 0.0314\n",
      "Epoch 25/100\n",
      "100/100 - 0s - loss: 0.0313 - val_loss: 0.0305\n",
      "Epoch 26/100\n",
      "100/100 - 0s - loss: 0.0305 - val_loss: 0.0298\n",
      "Epoch 27/100\n",
      "100/100 - 0s - loss: 0.0297 - val_loss: 0.0291\n",
      "Epoch 28/100\n",
      "100/100 - 0s - loss: 0.0289 - val_loss: 0.0283\n",
      "Epoch 29/100\n",
      "100/100 - 0s - loss: 0.0281 - val_loss: 0.0275\n",
      "Epoch 30/100\n",
      "100/100 - 0s - loss: 0.0273 - val_loss: 0.0267\n",
      "Epoch 31/100\n",
      "100/100 - 0s - loss: 0.0266 - val_loss: 0.0259\n",
      "Epoch 32/100\n",
      "100/100 - 0s - loss: 0.0257 - val_loss: 0.0251\n",
      "Epoch 33/100\n",
      "100/100 - 0s - loss: 0.0250 - val_loss: 0.0244\n",
      "Epoch 34/100\n",
      "100/100 - 0s - loss: 0.0243 - val_loss: 0.0237\n",
      "Epoch 35/100\n",
      "100/100 - 0s - loss: 0.0236 - val_loss: 0.0231\n",
      "Epoch 36/100\n",
      "100/100 - 0s - loss: 0.0231 - val_loss: 0.0225\n",
      "Epoch 37/100\n",
      "100/100 - 0s - loss: 0.0225 - val_loss: 0.0220\n",
      "Epoch 38/100\n",
      "100/100 - 0s - loss: 0.0221 - val_loss: 0.0216\n",
      "Epoch 39/100\n",
      "100/100 - 0s - loss: 0.0216 - val_loss: 0.0212\n",
      "Epoch 40/100\n",
      "100/100 - 0s - loss: 0.0213 - val_loss: 0.0208\n",
      "Epoch 41/100\n",
      "100/100 - 0s - loss: 0.0209 - val_loss: 0.0205\n",
      "Epoch 42/100\n",
      "100/100 - 0s - loss: 0.0206 - val_loss: 0.0201\n",
      "Epoch 43/100\n",
      "100/100 - 0s - loss: 0.0203 - val_loss: 0.0199\n",
      "Epoch 44/100\n",
      "100/100 - 0s - loss: 0.0200 - val_loss: 0.0195\n",
      "Epoch 45/100\n",
      "100/100 - 0s - loss: 0.0197 - val_loss: 0.0193\n",
      "Epoch 46/100\n",
      "100/100 - 0s - loss: 0.0195 - val_loss: 0.0191\n",
      "Epoch 47/100\n",
      "100/100 - 0s - loss: 0.0193 - val_loss: 0.0188\n",
      "Epoch 48/100\n",
      "100/100 - 0s - loss: 0.0191 - val_loss: 0.0187\n",
      "Epoch 49/100\n",
      "100/100 - 0s - loss: 0.0189 - val_loss: 0.0185\n",
      "Epoch 50/100\n",
      "100/100 - 0s - loss: 0.0187 - val_loss: 0.0183\n",
      "Epoch 51/100\n",
      "100/100 - 0s - loss: 0.0185 - val_loss: 0.0181\n",
      "Epoch 52/100\n",
      "100/100 - 0s - loss: 0.0184 - val_loss: 0.0181\n",
      "Epoch 53/100\n",
      "100/100 - 0s - loss: 0.0183 - val_loss: 0.0179\n",
      "Epoch 54/100\n",
      "100/100 - 0s - loss: 0.0181 - val_loss: 0.0177\n",
      "Epoch 55/100\n",
      "100/100 - 0s - loss: 0.0180 - val_loss: 0.0177\n",
      "Epoch 56/100\n",
      "\n",
      "Epoch 00056: ReduceLROnPlateau reducing learning rate to 0.00010000000474974513.\n",
      "100/100 - 0s - loss: 0.0179 - val_loss: 0.0176\n",
      "Epoch 57/100\n",
      "100/100 - 0s - loss: 0.0177 - val_loss: 0.0174\n",
      "Epoch 58/100\n",
      "100/100 - 0s - loss: 0.0177 - val_loss: 0.0174\n",
      "Epoch 59/100\n",
      "\n",
      "Epoch 00059: ReduceLROnPlateau reducing learning rate to 1.0000000474974514e-05.\n",
      "100/100 - 0s - loss: 0.0177 - val_loss: 0.0174\n",
      "Epoch 60/100\n",
      "100/100 - 0s - loss: 0.0177 - val_loss: 0.0174\n",
      "Epoch 61/100\n",
      "\n",
      "Epoch 00061: ReduceLROnPlateau reducing learning rate to 1.0000000656873453e-06.\n",
      "100/100 - 0s - loss: 0.0177 - val_loss: 0.0174\n",
      "Epoch 62/100\n",
      "100/100 - 0s - loss: 0.0177 - val_loss: 0.0174\n",
      "Epoch 63/100\n",
      "\n",
      "Epoch 00063: ReduceLROnPlateau reducing learning rate to 1.0000001111620805e-07.\n",
      "100/100 - 0s - loss: 0.0177 - val_loss: 0.0174\n",
      "Epoch 64/100\n",
      "100/100 - 0s - loss: 0.0177 - val_loss: 0.0174\n",
      "Epoch 65/100\n",
      "\n",
      "Epoch 00065: ReduceLROnPlateau reducing learning rate to 1.000000082740371e-08.\n",
      "100/100 - 0s - loss: 0.0177 - val_loss: 0.0174\n",
      "Epoch 66/100\n",
      "100/100 - 0s - loss: 0.0177 - val_loss: 0.0174\n",
      "Epoch 67/100\n",
      "\n",
      "Epoch 00067: ReduceLROnPlateau reducing learning rate to 1.000000082740371e-09.\n",
      "100/100 - 0s - loss: 0.0177 - val_loss: 0.0174\n",
      "Epoch 68/100\n",
      "100/100 - 0s - loss: 0.0177 - val_loss: 0.0174\n",
      "Epoch 69/100\n",
      "\n",
      "Epoch 00069: ReduceLROnPlateau reducing learning rate to 1.000000082740371e-10.\n",
      "100/100 - 0s - loss: 0.0177 - val_loss: 0.0174\n",
      "Epoch 70/100\n",
      "100/100 - 0s - loss: 0.0177 - val_loss: 0.0174\n",
      "Epoch 71/100\n",
      "\n",
      "Epoch 00071: ReduceLROnPlateau reducing learning rate to 1.000000082740371e-11.\n",
      "100/100 - 0s - loss: 0.0177 - val_loss: 0.0174\n",
      "Epoch 72/100\n",
      "100/100 - 0s - loss: 0.0177 - val_loss: 0.0174\n",
      "Epoch 73/100\n",
      "\n",
      "Epoch 00073: ReduceLROnPlateau reducing learning rate to 1.000000082740371e-12.\n",
      "100/100 - 0s - loss: 0.0177 - val_loss: 0.0174\n",
      "Epoch 74/100\n",
      "100/100 - 0s - loss: 0.0177 - val_loss: 0.0174\n",
      "Epoch 00074: early stopping\n"
     ]
    }
   ],
   "source": [
    "# train \n",
    "history = autoencoder.fit(X_train, X_train, epochs=n_epochs, batch_size=batch_size, verbose = 2,\n",
    "                validation_data=(X_val, X_val),\n",
    "                callbacks = [\n",
    "                EarlyStopping(monitor='val_loss', patience=10, verbose=1),\n",
    "                ReduceLROnPlateau(monitor='val_loss', factor=0.1, patience=2, verbose=1),\n",
    "                TerminateOnNaN()])"
   ]
  },
  {
   "cell_type": "code",
   "execution_count": 16,
   "metadata": {},
   "outputs": [
    {
     "data": {
      "image/png": "[encoded data removed]",
      "text/plain": [
       "<Figure size 432x288 with 1 Axes>"
      ]
     },
     "metadata": {
      "needs_background": "light"
     },
     "output_type": "display_data"
    }
   ],
   "source": [
    "# plot training history\n",
    "plt.plot(history.history['loss'])\n",
    "plt.plot(history.history['val_loss'])\n",
    "plt.yscale('log')\n",
    "plt.title('Training History')\n",
    "plt.ylabel('loss')\n",
    "plt.xlabel('epoch')\n",
    "plt.legend(['training', 'validation'], loc='upper right')\n",
    "plt.show()"
   ]
  },
  {
   "cell_type": "markdown",
   "metadata": {},
   "source": [
    "# Loss Distributions"
   ]
  },
  {
   "cell_type": "code",
   "execution_count": 17,
   "metadata": {},
   "outputs": [],
   "source": [
    "labels = ['W', 'Z', 'top']"
   ]
  },
  {
   "cell_type": "code",
   "execution_count": 18,
   "metadata": {},
   "outputs": [],
   "source": [
    "anomaly = [features_W, features_Z, features_t]\n",
    "predictedQCD = autoencoder.predict(X_test)\n",
    "predicted_anomaly = []\n",
    "for i in range(len(labels)):\n",
    "    predicted_anomaly.append(autoencoder.predict(anomaly[i]))"
   ]
  },
  {
   "cell_type": "code",
   "execution_count": 19,
   "metadata": {},
   "outputs": [],
   "source": [
    "def mse(data_in, data_out):\n",
    "    mse = (data_out-data_in)*(data_out-data_in)\n",
    "    # sum over features\n",
    "    mse = mse.sum(-1)\n",
    "    return mse    "
   ]
  },
  {
   "cell_type": "code",
   "execution_count": 20,
   "metadata": {},
   "outputs": [],
   "source": [
    "lossQCD = mse(X_test, predictedQCD)\n",
    "loss_anomaly = []\n",
    "for i in range(len(labels)):\n",
    "    loss_anomaly.append(mse(anomaly[i], predicted_anomaly[i]))"
   ]
  },
  {
   "cell_type": "code",
   "execution_count": 21,
   "metadata": {},
   "outputs": [
    {
     "data": {
      "image/png": "[encoded data removed]",
      "text/plain": [
       "<Figure size 432x288 with 1 Axes>"
      ]
     },
     "metadata": {
      "needs_background": "light"
     },
     "output_type": "display_data"
    }
   ],
   "source": [
    "maxScore = np.max(lossQCD)\n",
    "# plot QCD\n",
    "plt.figure()\n",
    "plt.hist(lossQCD, bins=100, label='QCD', density=True, range=(0, maxScore), \n",
    "         histtype='step', fill=False, linewidth=1.5)\n",
    "plt.semilogy()\n",
    "plt.xlabel(\"AE Loss\")\n",
    "plt.ylabel(\"Probability (a.u.)\")\n",
    "plt.grid(True)\n",
    "plt.legend(loc='upper right')\n",
    "plt.show()"
   ]
  },
  {
   "cell_type": "code",
   "execution_count": 22,
   "metadata": {},
   "outputs": [
    {
     "data": {
      "image/png": "[encoded data removed]",
      "text/plain": [
       "<Figure size 432x288 with 1 Axes>"
      ]
     },
     "metadata": {
      "needs_background": "light"
     },
     "output_type": "display_data"
    }
   ],
   "source": [
    "maxScore = np.max(lossQCD)\n",
    "# plot QCD\n",
    "plt.figure()\n",
    "plt.hist(lossQCD, bins=100, label='QCD', density=True, range=(0, maxScore), \n",
    "         histtype='step', fill=False, linewidth=1.5)\n",
    "for i in range(len(labels)):\n",
    "    plt.hist(loss_anomaly[i], bins=100, label=labels[i], density=True, range=(0, maxScore),\n",
    "            histtype='step', fill=False, linewidth=1.5)\n",
    "plt.semilogy()\n",
    "plt.xlabel(\"AE Loss\")\n",
    "plt.ylabel(\"Probability (a.u.)\")\n",
    "plt.grid(True)\n",
    "plt.legend(loc='upper right')\n",
    "plt.show()"
   ]
  },
  {
   "cell_type": "markdown",
   "metadata": {},
   "source": [
    "# Building the ROC Curves"
   ]
  },
  {
   "cell_type": "code",
   "execution_count": 23,
   "metadata": {},
   "outputs": [
    {
     "name": "stdout",
     "output_type": "stream",
     "text": [
      "(10015,) (3982,)\n",
      "(13997,) (13997,)\n",
      "(10037,) (3982,)\n",
      "(14019,) (14019,)\n",
      "(10040,) (3982,)\n",
      "(14022,) (14022,)\n"
     ]
    },
    {
     "data": {
      "image/png": "[encoded data removed]",
      "text/plain": [
       "<Figure size 432x288 with 1 Axes>"
      ]
     },
     "metadata": {
      "needs_background": "light"
     },
     "output_type": "display_data"
    }
   ],
   "source": [
    "from sklearn.metrics import roc_curve, auc\n",
    "plt.figure()\n",
    "targetQCD = np.zeros(lossQCD.shape[0])\n",
    "for i, label in enumerate(labels):\n",
    "        print(loss_anomaly[i].shape, targetQCD.shape)\n",
    "        trueVal = np.concatenate((np.ones(loss_anomaly[i].shape[0]),targetQCD))\n",
    "        predVal = np.concatenate((loss_anomaly[i],lossQCD))\n",
    "        print(trueVal.shape, predVal.shape)\n",
    "        fpr, tpr, threshold = roc_curve(trueVal,predVal)\n",
    "        auc1= auc(fpr, tpr)\n",
    "        plt.plot(tpr,fpr,label='%s Anomaly Detection, auc = %.1f%%'%(label,auc1*100.))\n",
    "#plt.semilogy()\n",
    "plt.xlabel(\"sig. efficiency\")\n",
    "plt.ylabel(\"bkg. mistag rate\")\n",
    "plt.grid(True)\n",
    "plt.legend(loc='lower right')\n",
    "plt.show()"
   ]
  },
  {
   "cell_type": "code",
   "execution_count": null,
   "metadata": {},
   "outputs": [],
   "source": []
  }
 ],
 "metadata": {
  "kernelspec": {
   "display_name": "Python 3",
   "language": "python",
   "name": "python3"
  },
  "language_info": {
   "codemirror_mode": {
    "name": "ipython",
    "version": 3
   },
   "file_extension": ".py",
   "mimetype": "text/x-python",
   "name": "python",
   "nbconvert_exporter": "python",
   "pygments_lexer": "ipython3",
   "version": "3.6.8"
  }
 },
 "nbformat": 4,
 "nbformat_minor": 4
}
